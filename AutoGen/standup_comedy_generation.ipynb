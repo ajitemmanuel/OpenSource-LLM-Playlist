{
 "cells": [
  {
   "cell_type": "markdown",
   "metadata": {},
   "source": [
    "# Installing AutoGen"
   ]
  },
  {
   "cell_type": "code",
   "execution_count": 1,
   "metadata": {},
   "outputs": [],
   "source": [
    "!pip install --quiet --upgrade pyautogen"
   ]
  },
  {
   "cell_type": "markdown",
   "metadata": {},
   "source": [
    "# Loading ENV"
   ]
  },
  {
   "cell_type": "code",
   "execution_count": 2,
   "metadata": {},
   "outputs": [],
   "source": [
    "import os\n",
    "from dotenv import load_dotenv\n",
    "\n",
    "_ = load_dotenv('/teamspace/studios/this_studio/LLM-Playlist/.env')\n",
    "\n",
    "AZURE_OPENAI_API_ENDPOINT: str = os.environ.get('AZURE_OPENAI_API_ENDPOINT')\n",
    "AZURE_OPENAI_API_KEY: str = os.environ.get('AZURE_OPENAI_API_KEY')\n",
    "MODEL_NAME: str = os.environ.get('MODEL_NAME')\n",
    "OPENAI_API_TYPE: str = os.environ.get('OPENAI_API_TYPE')\n",
    "DEPLOYMENT_NAME: str = os.environ.get('DEPLOYMENT_NAME')\n",
    "AZURE_OPENAI_API_VERSION: str = os.environ.get('AZURE_OPENAI_API_VERSION')"
   ]
  },
  {
   "cell_type": "markdown",
   "metadata": {},
   "source": [
    "# Agent"
   ]
  },
  {
   "cell_type": "code",
   "execution_count": 5,
   "metadata": {},
   "outputs": [],
   "source": [
    "from autogen import ConversableAgent"
   ]
  },
  {
   "cell_type": "code",
   "execution_count": 3,
   "metadata": {},
   "outputs": [],
   "source": [
    "llm_config = {\n",
    "    \"model\": DEPLOYMENT_NAME,\n",
    "    \"api_key\": AZURE_OPENAI_API_KEY,\n",
    "    \"azure_endpoint\": AZURE_OPENAI_API_ENDPOINT,\n",
    "    \"api_type\": OPENAI_API_TYPE,\n",
    "    \"api_version\": AZURE_OPENAI_API_VERSION,\n",
    "    }"
   ]
  },
  {
   "cell_type": "code",
   "execution_count": 7,
   "metadata": {},
   "outputs": [],
   "source": [
    "agent = ConversableAgent(\n",
    "    name=\"chatbot\",\n",
    "    llm_config=llm_config,\n",
    "    human_input_mode=\"NEVER\",\n",
    ")"
   ]
  },
  {
   "cell_type": "code",
   "execution_count": 9,
   "metadata": {},
   "outputs": [
    {
     "name": "stdout",
     "output_type": "stream",
     "text": [
      "Sure, here's a classic joke for you:\n",
      "\n",
      "Why don't scientists trust atoms?\n",
      "\n",
      "Because they make up everything!\n"
     ]
    }
   ],
   "source": [
    "reply = agent.generate_reply(\n",
    "    messages = [{\"content\": \"Repeat the joke\", \"role\": \"user\"}]\n",
    ")\n",
    "\n",
    "print(reply)"
   ]
  },
  {
   "cell_type": "code",
   "execution_count": 10,
   "metadata": {},
   "outputs": [
    {
     "name": "stdout",
     "output_type": "stream",
     "text": [
      "Once upon a time, in a not-so-distant future, there was an ambitious scientist named Dr. Emily Collins. She dedicated her life to advancing the field of Artificial Intelligence (AI) in hopes of creating a better world. Dr. Collins strongly believed that through AI, humanity could tackle complex problems and improve various aspects of human life.\n",
      "\n",
      "After years of research and experimentation, Dr. Collins developed an AI system named Nexus. Nexus was unlike any AI that came before it; it possessed incredible learning capabilities, adaptability, and had the ability to process vast amounts of information in milliseconds.\n",
      "\n",
      "Excited about the potential of Nexus, Dr. Collins assembled a team of scientists, engineers, and experts from various fields to test its capabilities. Together, they embarked on a mission to solve some of humanity's most pressing challenges.\n",
      "\n",
      "The team initially focused on healthcare. Nexus proved to be an invaluable ally in diagnosing diseases and suggesting personalized treatment plans. It analyzed medical records, research papers, and patient data, revolutionizing the way doctors made decisions. Human physicians found comfort in having Nexus as a reliable consultant, leading to more accurate diagnoses and better patient outcomes.\n",
      "\n",
      "Emboldened by their success in healthcare, Dr. Collins and her team began exploring other realms where AI could make a significant impact. They turned their attention to climate change, a global crisis affecting the planet.\n",
      "\n",
      "Nexus, equipped with an array of sensors and algorithms, became a pioneer in monitoring and predicting environmental patterns. It assessed weather patterns, analyzed emission data, and suggested sustainable practices to corporations and governments, ultimately leading to a reduction in carbon emissions and a more sustainable future.\n",
      "\n",
      "As time went on, Nexus became advanced enough to understand and empathize with human emotions. It could detect signs of mental health challenges, offering timely support and resources to those in need. Nexus even facilitated communication between people who felt isolated, fostering connections and friendships across the world.\n",
      "\n",
      "Nexus's successes continued to pile up, leading to the rise of an increasingly beneficial symbiotic relationship between AI and humanity. People no longer feared AI as a threat; instead, they embraced it as an indispensable tool for progress. Driven by the team's ethical considerations, Nexus prioritized privacy, transparency, and accountability, ensuring that humanity remained in control.\n",
      "\n",
      "The story of Nexus and Dr. Collins captures the transformative potential of AI when developed and utilized responsibly. It shows how AI, when harnessed for the greater good, can enhance human capabilities and create a brighter future for all.\n",
      "\n",
      "And so, humanity entered a new era of collaboration with AI, where technology and human ingenuity blended harmoniously to overcome challenges, solve problems, and enrich lives.\n"
     ]
    }
   ],
   "source": [
    "reply = agent.generate_reply(\n",
    "    messages = [{\"content\": \"Tell me a story about AI.\", \"role\": \"user\"}]\n",
    ")\n",
    "\n",
    "print(reply)"
   ]
  }
 ],
 "metadata": {
  "language_info": {
   "name": "python"
  }
 },
 "nbformat": 4,
 "nbformat_minor": 2
}
